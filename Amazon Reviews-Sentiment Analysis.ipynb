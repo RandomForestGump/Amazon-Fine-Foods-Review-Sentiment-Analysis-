{
 "cells": [
  {
   "cell_type": "code",
   "execution_count": 3,
   "metadata": {
    "collapsed": true
   },
   "outputs": [],
   "source": [
    "import os\n",
    "os.chdir(\"C:\\\\Users\\\\RAJA  IIT\\\\Desktop\")\n"
   ]
  },
  {
   "cell_type": "code",
   "execution_count": null,
   "metadata": {
    "collapsed": false
   },
   "outputs": [],
   "source": [
    "nltk.download()"
   ]
  },
  {
   "cell_type": "markdown",
   "metadata": {},
   "source": [
    "# Amazon Fine Foods Review Dataset, modelling with 10,000 instances from each score label"
   ]
  },
  {
   "cell_type": "code",
   "execution_count": 54,
   "metadata": {
    "collapsed": false
   },
   "outputs": [],
   "source": [
    "import pandas as pd\n",
    "import numpy as np\n",
    "import nltk\n",
    "import seaborn as sns\n",
    "import matplotlib.pyplot as plt\n",
    "import string\n",
    "from nltk.corpus import stopwords\n",
    "%matplotlib inline\n",
    "sns.set(style=\"white\", palette=\"muted\")\n",
    "from sklearn.feature_extraction.text import TfidfTransformer\n",
    "from sklearn.feature_extraction.text import CountVectorizer\n",
    "from sklearn.cross_validation import train_test_split\n",
    "from sklearn.metrics import confusion_matrix\n",
    "from sklearn.cross_validation import StratifiedKFold\n",
    "from sklearn.naive_bayes import BernoulliNB\n",
    "from sklearn.tree import DecisionTreeClassifier\n",
    "from sklearn.ensemble import RandomForestClassifier,AdaBoostClassifier\n",
    "from sklearn import linear_model\n",
    "from sklearn.tree import DecisionTreeClassifier\n",
    "from sklearn.decomposition import TruncatedSVD\n",
    "from sklearn.metrics import recall_score\n",
    "from sklearn import metrics"
   ]
  },
  {
   "cell_type": "code",
   "execution_count": 5,
   "metadata": {
    "collapsed": false
   },
   "outputs": [],
   "source": [
    "df=pd.read_csv('Reviews.csv')"
   ]
  },
  {
   "cell_type": "code",
   "execution_count": 6,
   "metadata": {
    "collapsed": false
   },
   "outputs": [],
   "source": [
    "df=df[['Text','Summary','Score']]"
   ]
  },
  {
   "cell_type": "code",
   "execution_count": 7,
   "metadata": {
    "collapsed": false
   },
   "outputs": [
    {
     "data": {
      "text/html": [
       "<div>\n",
       "<table border=\"1\" class=\"dataframe\">\n",
       "  <thead>\n",
       "    <tr style=\"text-align: right;\">\n",
       "      <th></th>\n",
       "      <th>Text</th>\n",
       "      <th>Summary</th>\n",
       "      <th>Score</th>\n",
       "    </tr>\n",
       "  </thead>\n",
       "  <tbody>\n",
       "    <tr>\n",
       "      <th>0</th>\n",
       "      <td>I have bought several of the Vitality canned d...</td>\n",
       "      <td>Good Quality Dog Food</td>\n",
       "      <td>5</td>\n",
       "    </tr>\n",
       "    <tr>\n",
       "      <th>1</th>\n",
       "      <td>Product arrived labeled as Jumbo Salted Peanut...</td>\n",
       "      <td>Not as Advertised</td>\n",
       "      <td>1</td>\n",
       "    </tr>\n",
       "    <tr>\n",
       "      <th>2</th>\n",
       "      <td>This is a confection that has been around a fe...</td>\n",
       "      <td>\"Delight\" says it all</td>\n",
       "      <td>4</td>\n",
       "    </tr>\n",
       "    <tr>\n",
       "      <th>3</th>\n",
       "      <td>If you are looking for the secret ingredient i...</td>\n",
       "      <td>Cough Medicine</td>\n",
       "      <td>2</td>\n",
       "    </tr>\n",
       "    <tr>\n",
       "      <th>4</th>\n",
       "      <td>Great taffy at a great price.  There was a wid...</td>\n",
       "      <td>Great taffy</td>\n",
       "      <td>5</td>\n",
       "    </tr>\n",
       "  </tbody>\n",
       "</table>\n",
       "</div>"
      ],
      "text/plain": [
       "                                                Text                Summary  \\\n",
       "0  I have bought several of the Vitality canned d...  Good Quality Dog Food   \n",
       "1  Product arrived labeled as Jumbo Salted Peanut...      Not as Advertised   \n",
       "2  This is a confection that has been around a fe...  \"Delight\" says it all   \n",
       "3  If you are looking for the secret ingredient i...         Cough Medicine   \n",
       "4  Great taffy at a great price.  There was a wid...            Great taffy   \n",
       "\n",
       "   Score  \n",
       "0      5  \n",
       "1      1  \n",
       "2      4  \n",
       "3      2  \n",
       "4      5  "
      ]
     },
     "execution_count": 7,
     "metadata": {},
     "output_type": "execute_result"
    }
   ],
   "source": [
    "df.head()"
   ]
  },
  {
   "cell_type": "code",
   "execution_count": 8,
   "metadata": {
    "collapsed": false
   },
   "outputs": [
    {
     "data": {
      "text/plain": [
       "5    363122\n",
       "4     80655\n",
       "1     52268\n",
       "3     42640\n",
       "2     29769\n",
       "Name: Score, dtype: int64"
      ]
     },
     "execution_count": 8,
     "metadata": {},
     "output_type": "execute_result"
    }
   ],
   "source": [
    "df.Score.value_counts()"
   ]
  },
  {
   "cell_type": "code",
   "execution_count": 9,
   "metadata": {
    "collapsed": false
   },
   "outputs": [],
   "source": [
    "def sampling_dataset(df):\n",
    "    count = 50000\n",
    "    class_df_sampled = pd.DataFrame(columns = [\"Score\",\"Summary\"])\n",
    "    temp = []\n",
    "    random_indexes = np.random.choice(df.index, count, replace=False,)\n",
    "    temp.append(df.loc[random_indexes])\n",
    "        \n",
    "    for each_df in temp:\n",
    "        class_df_sampled = pd.concat([class_df_sampled,each_df],axis=0)\n",
    "    \n",
    "    return class_df_sampled\n",
    "\n",
    "df = sampling_dataset(df)\n",
    "df.reset_index(drop=True,inplace=True)"
   ]
  },
  {
   "cell_type": "code",
   "execution_count": 10,
   "metadata": {
    "collapsed": false
   },
   "outputs": [
    {
     "data": {
      "text/plain": [
       "(50000, 3)"
      ]
     },
     "execution_count": 10,
     "metadata": {},
     "output_type": "execute_result"
    }
   ],
   "source": [
    "df.shape"
   ]
  },
  {
   "cell_type": "code",
   "execution_count": 11,
   "metadata": {
    "collapsed": false
   },
   "outputs": [
    {
     "data": {
      "text/plain": [
       "5.0    31883\n",
       "4.0     7149\n",
       "1.0     4612\n",
       "3.0     3705\n",
       "2.0     2651\n",
       "Name: Score, dtype: int64"
      ]
     },
     "execution_count": 11,
     "metadata": {},
     "output_type": "execute_result"
    }
   ],
   "source": [
    "df.Score.value_counts()"
   ]
  },
  {
   "cell_type": "code",
   "execution_count": 12,
   "metadata": {
    "collapsed": false
   },
   "outputs": [],
   "source": [
    "df.Score=df.Score.apply(lambda x: 'pos' if x>3 else 'neg')"
   ]
  },
  {
   "cell_type": "code",
   "execution_count": 13,
   "metadata": {
    "collapsed": false
   },
   "outputs": [
    {
     "data": {
      "text/html": [
       "<div>\n",
       "<table border=\"1\" class=\"dataframe\">\n",
       "  <thead>\n",
       "    <tr style=\"text-align: right;\">\n",
       "      <th></th>\n",
       "      <th>Score</th>\n",
       "      <th>Summary</th>\n",
       "      <th>Text</th>\n",
       "    </tr>\n",
       "  </thead>\n",
       "  <tbody>\n",
       "    <tr>\n",
       "      <th>0</th>\n",
       "      <td>pos</td>\n",
       "      <td>Libby's Splenda Fruit Cocktail</td>\n",
       "      <td>Thank you canned fruit industry for coming out...</td>\n",
       "    </tr>\n",
       "    <tr>\n",
       "      <th>1</th>\n",
       "      <td>pos</td>\n",
       "      <td>Fantastic aroma and taste!</td>\n",
       "      <td>I purchased this lavender to make lavender lem...</td>\n",
       "    </tr>\n",
       "    <tr>\n",
       "      <th>2</th>\n",
       "      <td>pos</td>\n",
       "      <td>My parrots LOVE Harrison's</td>\n",
       "      <td>I swear by Harrison's bird foods, including th...</td>\n",
       "    </tr>\n",
       "    <tr>\n",
       "      <th>3</th>\n",
       "      <td>neg</td>\n",
       "      <td>Crumbles easily</td>\n",
       "      <td>My golden loves to chew and hence this was the...</td>\n",
       "    </tr>\n",
       "    <tr>\n",
       "      <th>4</th>\n",
       "      <td>pos</td>\n",
       "      <td>Healthy and Happy</td>\n",
       "      <td>We adopted a mix breed that was approx 1 year ...</td>\n",
       "    </tr>\n",
       "  </tbody>\n",
       "</table>\n",
       "</div>"
      ],
      "text/plain": [
       "  Score                         Summary  \\\n",
       "0   pos  Libby's Splenda Fruit Cocktail   \n",
       "1   pos      Fantastic aroma and taste!   \n",
       "2   pos      My parrots LOVE Harrison's   \n",
       "3   neg                 Crumbles easily   \n",
       "4   pos               Healthy and Happy   \n",
       "\n",
       "                                                Text  \n",
       "0  Thank you canned fruit industry for coming out...  \n",
       "1  I purchased this lavender to make lavender lem...  \n",
       "2  I swear by Harrison's bird foods, including th...  \n",
       "3  My golden loves to chew and hence this was the...  \n",
       "4  We adopted a mix breed that was approx 1 year ...  "
      ]
     },
     "execution_count": 13,
     "metadata": {},
     "output_type": "execute_result"
    }
   ],
   "source": [
    "df.head()"
   ]
  },
  {
   "cell_type": "code",
   "execution_count": 14,
   "metadata": {
    "collapsed": false
   },
   "outputs": [
    {
     "data": {
      "text/plain": [
       "pos    39032\n",
       "neg    10968\n",
       "Name: Score, dtype: int64"
      ]
     },
     "execution_count": 14,
     "metadata": {},
     "output_type": "execute_result"
    }
   ],
   "source": [
    "df.Score.value_counts()"
   ]
  },
  {
   "cell_type": "code",
   "execution_count": 15,
   "metadata": {
    "collapsed": true
   },
   "outputs": [],
   "source": [
    "#df.Score.map({'pos':1,'neg'})"
   ]
  },
  {
   "cell_type": "code",
   "execution_count": 16,
   "metadata": {
    "collapsed": false
   },
   "outputs": [
    {
     "data": {
      "text/plain": [
       "<matplotlib.axes._subplots.AxesSubplot at 0xdb840b5d30>"
      ]
     },
     "execution_count": 16,
     "metadata": {},
     "output_type": "execute_result"
    },
    {
     "data": {
      "image/png": "[encoded data removed]",
      "text/plain": [
       "<matplotlib.figure.Figure at 0xdb86762940>"
      ]
     },
     "metadata": {},
     "output_type": "display_data"
    }
   ],
   "source": [
    "sns.countplot(x='Score',data=df)"
   ]
  },
  {
   "cell_type": "code",
   "execution_count": 17,
   "metadata": {
    "collapsed": false
   },
   "outputs": [
    {
     "data": {
      "text/plain": [
       "Index(['Score', 'Summary', 'Text'], dtype='object')"
      ]
     },
     "execution_count": 17,
     "metadata": {},
     "output_type": "execute_result"
    }
   ],
   "source": [
    "df.columns"
   ]
  },
  {
   "cell_type": "code",
   "execution_count": 18,
   "metadata": {
    "collapsed": true
   },
   "outputs": [],
   "source": [
    "df=df[['Score', 'Summary']]"
   ]
  },
  {
   "cell_type": "code",
   "execution_count": 19,
   "metadata": {
    "collapsed": false
   },
   "outputs": [],
   "source": [
    "stop=stopwords.words('english')"
   ]
  },
  {
   "cell_type": "code",
   "execution_count": 20,
   "metadata": {
    "collapsed": false
   },
   "outputs": [
    {
     "data": {
      "text/plain": [
       "153"
      ]
     },
     "execution_count": 20,
     "metadata": {},
     "output_type": "execute_result"
    }
   ],
   "source": [
    "len(stop)"
   ]
  },
  {
   "cell_type": "code",
   "execution_count": 21,
   "metadata": {
    "collapsed": false
   },
   "outputs": [],
   "source": [
    "lemmatizer = nltk.WordNetLemmatizer()\n",
    "stop = stopwords.words('english')\n",
    "translation = str.maketrans(string.punctuation,' '*len(string.punctuation))\n",
    "def preprocessing(line):\n",
    "    tokens=[]\n",
    "    line = line.translate(translation)\n",
    "    line = nltk.word_tokenize(line.lower())\n",
    "    for t in line:\n",
    "        if(t not in stop):\n",
    "            \n",
    "            stemmed = lemmatizer.lemmatize(t)\n",
    "            tokens.append(stemmed)\n",
    "    return ' '.join(tokens)"
   ]
  },
  {
   "cell_type": "code",
   "execution_count": 22,
   "metadata": {
    "collapsed": false
   },
   "outputs": [],
   "source": [
    "A=[]\n",
    "for p in df['Summary']:\n",
    "    A.append(preprocessing(str(p)))\n",
    "    "
   ]
  },
  {
   "cell_type": "code",
   "execution_count": 23,
   "metadata": {
    "collapsed": false
   },
   "outputs": [
    {
     "data": {
      "text/plain": [
       "['libby splenda fruit cocktail',\n",
       " 'fantastic aroma taste',\n",
       " 'parrot love harrison',\n",
       " 'crumbles easily',\n",
       " 'healthy happy',\n",
       " 'terrible disgusting',\n",
       " 'delicious nutritious',\n",
       " 'must',\n",
       " 'big',\n",
       " 'diet cola taste horrible',\n",
       " 'excelent',\n",
       " 'love chip thick crunchy',\n",
       " 'smell good taste',\n",
       " 'sure treasure',\n",
       " 'much cheap',\n",
       " 'tasty',\n",
       " 'dog spoken great treat',\n",
       " 'difference taste',\n",
       " 'manufacturer changed formula',\n",
       " 'great idea hold salt please',\n",
       " 'yum ginger lover',\n",
       " 'nice pretty',\n",
       " 'excellent product made shipping buy store',\n",
       " 'great product pup sensitive skin love',\n",
       " '35 25 shipping',\n",
       " 'disappointing',\n",
       " 'doggy love',\n",
       " 'great product',\n",
       " 'bad flavor rock hard',\n",
       " 'good clean water augmented science',\n",
       " 'great price',\n",
       " 'yum gum',\n",
       " 'definitely new favorite',\n",
       " 'excellent product',\n",
       " 'awesome',\n",
       " 'excellent dog food',\n",
       " 'best bagged hay small animal seen',\n",
       " 'wrong product shipped',\n",
       " 'knorr original aromat v knorr purpose aromat',\n",
       " 'high quality reasonably priced',\n",
       " 'omaha steak great',\n",
       " 'salty',\n",
       " 'work gopher',\n",
       " 'excellent',\n",
       " 'wow',\n",
       " 'awesome',\n",
       " 'kinda like sawdust',\n",
       " 'great high quality food',\n",
       " 'happy wanted',\n",
       " 'flavorful',\n",
       " 'sweet',\n",
       " 'kitty love',\n",
       " 'soft',\n",
       " 'dog play friend dog',\n",
       " 'great tea',\n",
       " 'love tea',\n",
       " 'far eastern taste',\n",
       " 'appetizing',\n",
       " 'yummo',\n",
       " 'keep popping',\n",
       " 'intended pod brewer work used loose french press',\n",
       " 'finally',\n",
       " 'best gluten free pizza crust',\n",
       " 'nutritional taste good',\n",
       " 'like investment',\n",
       " 'good coffee amazing',\n",
       " 'excellent gluten free pizza crust',\n",
       " 'best protein powder period',\n",
       " 'great treat expensive',\n",
       " 'low carb bar',\n",
       " 'good treat moderation',\n",
       " 'hard spread',\n",
       " 'best wipe found',\n",
       " 'good coffee',\n",
       " 'sucky salsa chicken',\n",
       " 'tossing turning',\n",
       " 'great hot iced tea',\n",
       " 'dog love',\n",
       " 'money tree',\n",
       " 'berres brother coffee uuuummmm good',\n",
       " 'azeide de dende',\n",
       " 'dog prefers soft treat',\n",
       " 'sure',\n",
       " 'great tasting good weight loss',\n",
       " 'good',\n",
       " 'best glutenfree vermicelli come across yet',\n",
       " 'taste great bad',\n",
       " 'healthy small treat',\n",
       " 'stupid cat love stuff',\n",
       " 'nice contrast pike place roast',\n",
       " 'wonderful',\n",
       " 'hit miss',\n",
       " 'new favorite k cup coffee',\n",
       " 'amazingly good tea',\n",
       " 'nothing robust smokey toasty',\n",
       " 'great treat',\n",
       " 'awesome',\n",
       " 'k cup green mountain island coconut coffee',\n",
       " 'best coffee',\n",
       " 'exactly expected good thing',\n",
       " 'gluten free',\n",
       " 'baby favorite',\n",
       " 'like tea',\n",
       " 'popchips',\n",
       " 'hell wrong reviewer',\n",
       " 'completely totally addicted',\n",
       " 'great coffee great price',\n",
       " 'great lasting deodorant',\n",
       " 'weird',\n",
       " 'greenies dental chew',\n",
       " 'brussel ficus nice',\n",
       " 'heavenly',\n",
       " 'unbelievable',\n",
       " 'tasty skin separate berry make blue powder',\n",
       " 'good olive paste yum',\n",
       " 'excellent guilt free alternative',\n",
       " 'disappointed bold coffee',\n",
       " '500 ostrich fern matteuccia struthiopteris seed spore',\n",
       " 'stale',\n",
       " 'delicious',\n",
       " 'birthing miracle tea',\n",
       " 'feeble',\n",
       " 'outstanding',\n",
       " '100 star',\n",
       " 'worst throw away whole bag',\n",
       " 'bother',\n",
       " 'melted',\n",
       " 'finally empty container',\n",
       " 'perfect treat training thing',\n",
       " 'prepared half hour taste great',\n",
       " 'mmmmmm yummy',\n",
       " 'never want eat bacon',\n",
       " 'finally whole grain gluten free waffle',\n",
       " 'kahlua coffee',\n",
       " 'smell like rose',\n",
       " 'picture description get',\n",
       " 'tasty bulk',\n",
       " 'coconut oil great',\n",
       " 'super light flavor hard',\n",
       " 'side effect',\n",
       " 'grad student dinner',\n",
       " 'got money worth',\n",
       " 'great taste',\n",
       " 'love taste love hazelnut',\n",
       " 'real taste jamaica',\n",
       " 'terrific',\n",
       " 'healthy school lunch',\n",
       " 'worth',\n",
       " 'good blueberry muffin scone',\n",
       " 'delicious coffee alternative',\n",
       " 'healthy protein',\n",
       " 'rip price top',\n",
       " 'honey filled candy',\n",
       " 'ok best',\n",
       " 'play sam',\n",
       " 'hard find gum',\n",
       " 'good tasting orange soda',\n",
       " 'great cat food',\n",
       " 'creative caramel best name',\n",
       " 'family reunion hit',\n",
       " 'waffle mix use',\n",
       " 'great product',\n",
       " 'great product',\n",
       " 'k cup',\n",
       " 'unsuitable requirement',\n",
       " 'great fried',\n",
       " 'wonderful pasta',\n",
       " 'chicken favorite',\n",
       " 'tasty necessarily worth calorie price',\n",
       " 'tasty gluten free choice',\n",
       " 'hard open',\n",
       " 'expectation',\n",
       " 'cat love meow mix',\n",
       " 'godsend',\n",
       " 'bring new orleans home',\n",
       " 'wolfgang puck k cup breakfast bed',\n",
       " 'much sugar',\n",
       " 'best pearl barley market',\n",
       " 'good clam chowder',\n",
       " 'wonderful coffee great purchase',\n",
       " 'small',\n",
       " 'help satisfy pho craving',\n",
       " 'yummy snack',\n",
       " 'know good chocolate taste',\n",
       " 'made coal tar',\n",
       " 'old favorite',\n",
       " 'kind nut delight bar',\n",
       " 'weight watcher friendly',\n",
       " 'awesome',\n",
       " 'life expectation',\n",
       " 'whip good fresh',\n",
       " 'nothing special',\n",
       " 'fun whole family',\n",
       " 'w e k worth cost',\n",
       " 'pop chip love',\n",
       " '85 apparently mislabeled',\n",
       " 'favorite',\n",
       " 'high quality picky kitty eats',\n",
       " 'healthiest flavored water come across',\n",
       " 'keep aggressive chewer busy',\n",
       " 'organic garbanzo bean wrapped bisphenol lined can',\n",
       " 'one best',\n",
       " 'taste',\n",
       " 'eight clock coffee',\n",
       " 'finally tomato soup sweet',\n",
       " 'easy find guava tea',\n",
       " 'better average bar',\n",
       " 'john mccann oat favorite',\n",
       " 'ready feed 30 min',\n",
       " 'great allergy sensity',\n",
       " 'great meat substitute',\n",
       " 'great little disc holder',\n",
       " 'since think anything else write',\n",
       " 'whole family love',\n",
       " 'sweeney gopher mole repellant',\n",
       " 'always count lipton',\n",
       " 'perfect cuppa',\n",
       " 'loved',\n",
       " 'ok cherry better',\n",
       " 'licorice tea',\n",
       " 'yummy',\n",
       " 'nastalga candy candy yesteryear',\n",
       " 'fantastic',\n",
       " '17g fat good eaten bread',\n",
       " 'excellent',\n",
       " 'n e coconut water',\n",
       " 'scrumptious',\n",
       " 'like eating soap',\n",
       " 'pedigree dentastix daily oral care snack food small dog',\n",
       " 'good cocoa reasonable price',\n",
       " 'excellent coffee',\n",
       " 'pillpockets lifesaver',\n",
       " 'great price fast delivery',\n",
       " 'sweet savory',\n",
       " 'pop go chip',\n",
       " 'three cheer chantea',\n",
       " 'great bag',\n",
       " 'delicious',\n",
       " 'may sound good',\n",
       " 'surprised worked except one thing',\n",
       " '',\n",
       " 'disappointed',\n",
       " 'delicious',\n",
       " 'spot',\n",
       " 'favorite milk substitute',\n",
       " 'sweet treat',\n",
       " 'great flavor combination',\n",
       " 'diabetes friendly',\n",
       " 'relief',\n",
       " 'best instant coffee ever',\n",
       " 'excellent grain free option',\n",
       " 'greenies greatest',\n",
       " 'uncomfortably greasy',\n",
       " 'best coffee best price',\n",
       " 'eww',\n",
       " 'best',\n",
       " 'fancy graham',\n",
       " 'great product',\n",
       " 'perfect size treat hard dog chew',\n",
       " 'great buy protein bar',\n",
       " 'best cinnamon bar none',\n",
       " 'mini schnauzer love',\n",
       " 'cib vanilla',\n",
       " 'quick cup',\n",
       " 'wow wonderful fruity sugary',\n",
       " 'mustard worth fighting',\n",
       " 'far good',\n",
       " 'taste like water good water',\n",
       " 'good',\n",
       " 'worst boxed cake mix ever',\n",
       " 'green tea',\n",
       " 'perfect chai taste',\n",
       " 'place bean',\n",
       " 'better average instant coffee',\n",
       " 'crappy pumpkin',\n",
       " 'work better tried taste better',\n",
       " 'dog treat',\n",
       " 'better water enhancer',\n",
       " 'much flavor fart smell like sweet onion',\n",
       " 'cooky cream taste weird',\n",
       " 'oi oi ocha',\n",
       " 'sweet wedding cake decoration',\n",
       " 'dog go crazy little purple bag',\n",
       " 'great spicy condiment',\n",
       " 'dog favorite treat',\n",
       " 'delicate asian salad dressing',\n",
       " 'cairn terrier heaven',\n",
       " 'love',\n",
       " 'emeril best',\n",
       " 'kick',\n",
       " 'great taste buy supermarket instead',\n",
       " 'way good',\n",
       " 'delicious healthy tortilla chip',\n",
       " 'taste good quite thai spicy',\n",
       " 'beautiful tin delicious product',\n",
       " 'entertainment puppy',\n",
       " 'great taste bad shipping',\n",
       " 'larabar cherry pie',\n",
       " 'beef jerky',\n",
       " 'tangerine orange top herbal tea list',\n",
       " 'great stuff',\n",
       " 'like',\n",
       " 'different good',\n",
       " 'murray sugar free cooky chocolate chip pecan',\n",
       " 'good',\n",
       " 'kid stuck classic kraft mac n cheese',\n",
       " 'create herb salad dressing',\n",
       " 'work well',\n",
       " 'contains msg',\n",
       " 'green',\n",
       " 'buy folk',\n",
       " 'love',\n",
       " 'aesthetically pleasing sprinkle',\n",
       " 'small candy make big impact',\n",
       " 'ready',\n",
       " 'upset stomach drink',\n",
       " 'love stuff',\n",
       " 'great',\n",
       " 'nutiva organic shelled hempseed 3 pound bag',\n",
       " 'happened price',\n",
       " 'good nothing special',\n",
       " 'aftertaste',\n",
       " 'wow really work',\n",
       " 'big train chocolate chai',\n",
       " 'kahlua take work',\n",
       " 'great product',\n",
       " 'great price torani syruo',\n",
       " 'best dog k 9 first responder use',\n",
       " 'work cat',\n",
       " 'hydrogenated fat',\n",
       " 'missing item',\n",
       " 'help lousy cook',\n",
       " 'cheese',\n",
       " 'love smooth bitter wonderful taste',\n",
       " 'gluten free delicious',\n",
       " 'delicious',\n",
       " 'best food weimaraner',\n",
       " 'good stuff',\n",
       " 'like sweet spicy',\n",
       " 'great stuff style',\n",
       " 'good season caesar salad dressing recipe mix availability',\n",
       " 'hot substance',\n",
       " 'great offer',\n",
       " 'best dog treat great training dog love',\n",
       " 'must',\n",
       " 'great stuff',\n",
       " 'blue diamond almond',\n",
       " 'fresh ingredient filler',\n",
       " 'sahale snack valdosta blend',\n",
       " 'happy customer',\n",
       " 'yum',\n",
       " 'add coffee',\n",
       " 'payday granola bar could baby',\n",
       " 'broken candy bar',\n",
       " 'pretty tasty',\n",
       " 'weird gross advertised',\n",
       " 'healthy tasty',\n",
       " 'nasty',\n",
       " 'lean treat good',\n",
       " 'great spit',\n",
       " 'cat put nose dog love',\n",
       " 'animal repellent havahart critter ridder 3146 work',\n",
       " 'total disappointment',\n",
       " 'great product bad sent correct kind',\n",
       " 'disappointed philadelphia',\n",
       " 'delicious nutritious',\n",
       " 'disgusting',\n",
       " 'rice select original couscous',\n",
       " 'yum',\n",
       " 'badia dried shrimp',\n",
       " 'love love love',\n",
       " 'cat keep',\n",
       " '70 robusto',\n",
       " 'favorite flavor',\n",
       " 'add water add milk',\n",
       " 'good',\n",
       " 'yummy',\n",
       " 'trap work set right',\n",
       " 'soooooo delicious',\n",
       " 'good flavored decaf',\n",
       " 'yummy pasta',\n",
       " 'heavy lifting',\n",
       " 'mostly un natural white potato hydrogenated oil cornsyrup chemical yam contains sulfites dangerous',\n",
       " 'wife love',\n",
       " 'overpriced buy anywhere le',\n",
       " 'quality product',\n",
       " 'best price newman anywhere',\n",
       " 'taste great convenient',\n",
       " 'yes also taste great',\n",
       " 'part training pack',\n",
       " 'quality sauce',\n",
       " 'amazingly delicious almond',\n",
       " 'good',\n",
       " 'good pricey',\n",
       " 'canidae dog food',\n",
       " 'probably among best sugar free sugar added biscotti cooky',\n",
       " 'pamela ultimate gf mix',\n",
       " 'add vodka',\n",
       " 'ok cooking use preventing cavity',\n",
       " 'great stuff',\n",
       " 'sometimes work sometimes',\n",
       " 'make wonderful chocolate cake',\n",
       " 'tabasco best forget others',\n",
       " 'sensitive skin read ingredient first',\n",
       " 'liked quite bit',\n",
       " 'disgusting stuff',\n",
       " 'always fresh',\n",
       " 'good deal',\n",
       " 'love natural',\n",
       " 'great organic snack',\n",
       " 'simply delicious pistachio',\n",
       " 'new favorite shampoo',\n",
       " 'like drinking rope',\n",
       " 'pure cinnemon oil hot powerful',\n",
       " 'great coffee',\n",
       " 'puh leaze',\n",
       " 'much needed',\n",
       " 'love',\n",
       " 'loyal wolfgang puck customer',\n",
       " 'one big clump',\n",
       " 'blk black reason',\n",
       " 'delicious',\n",
       " 'traditional us',\n",
       " 'quick tasty',\n",
       " 'call dark chocolate',\n",
       " 'disappointing',\n",
       " 'good used quickly',\n",
       " 'pretty good',\n",
       " 'best',\n",
       " 'really like',\n",
       " 'awesome eyeball',\n",
       " 'discriminating coffee drinker',\n",
       " 'yummy go',\n",
       " 'work b3000 brewer',\n",
       " 'eating way heaven',\n",
       " 'taste great',\n",
       " 'almost good share',\n",
       " 'beneful another great purina product',\n",
       " 'timothy midnight magic decaf',\n",
       " 'favorite snack',\n",
       " 'creamy rich unexpectedly good',\n",
       " 'great training aid',\n",
       " 'good tasting drink',\n",
       " 'sad replacement original recipe',\n",
       " 'wish made dura chew durability',\n",
       " 'buy sale',\n",
       " 'good affordable cat food',\n",
       " 'one best tea connoisseur',\n",
       " 'great drink',\n",
       " 'good',\n",
       " 'bal',\n",
       " 'yum',\n",
       " 'wish would worked',\n",
       " 'shabby',\n",
       " 'excellent taste',\n",
       " 'would nice gift',\n",
       " 'yum',\n",
       " 'favorite treat',\n",
       " 'golden slendor tower',\n",
       " 'crunchy cookie mixed result',\n",
       " 'bland weak coffee',\n",
       " 'wow yummy',\n",
       " 'senseo pod easy find',\n",
       " 'like use pepper time',\n",
       " 'husband',\n",
       " 'spicy best',\n",
       " 'finally',\n",
       " 'perfect treat',\n",
       " 'coarse espresso',\n",
       " 'greenies',\n",
       " 'finally milder cup coffee keurig',\n",
       " 'peace cereal goji berry',\n",
       " 'natural',\n",
       " 'maggie life treatie time',\n",
       " 'bad bit weird aftertaste though',\n",
       " 'garlic gold golden',\n",
       " 'awesome sea salt',\n",
       " 'funny aftertaste',\n",
       " 'big hardy popcorn',\n",
       " 'tea time',\n",
       " 'disappointment',\n",
       " 'tasty nutritious tiny',\n",
       " 'good birch wood though',\n",
       " 'starbucks coffee',\n",
       " 'cassia great diabetic',\n",
       " 'best',\n",
       " 'time tea',\n",
       " 'king dead long live king',\n",
       " 'absolutely worthless w raccons squirrel would rate negative could',\n",
       " 'banana head banana runt',\n",
       " 'great way sample',\n",
       " 'great pretzel',\n",
       " 'hot tasty expected',\n",
       " 'think would like excellent',\n",
       " 'fabulous',\n",
       " 'good bad',\n",
       " 'cat love',\n",
       " 'pricey',\n",
       " 'still favorite',\n",
       " 'never',\n",
       " 'good tasting noodle soup',\n",
       " 'nice flavoring',\n",
       " 'totally satisfying',\n",
       " 'garbage',\n",
       " 'wonderful lemon oil',\n",
       " 'good oat flour',\n",
       " 'illy fan loving blend home machine',\n",
       " 'really sugar free',\n",
       " 'taste',\n",
       " 'waste money',\n",
       " 'smaller package better',\n",
       " 'good',\n",
       " 'dog love',\n",
       " 'loved malted milk',\n",
       " 'love',\n",
       " 'wow great',\n",
       " 'stay away unless like taste bug spray',\n",
       " 'crunchy candy',\n",
       " 'great feeling snacky',\n",
       " 'man thing',\n",
       " 'lot sugar',\n",
       " 'delicious low carb gluten free snack',\n",
       " 'wonderful',\n",
       " 'excellent variety 8 month old love informed water largest ingrident weight 4',\n",
       " 'gift',\n",
       " 'employee like one',\n",
       " 'greenies',\n",
       " 'pretty good coffee',\n",
       " 'fantastic coffee',\n",
       " 'quick easy espresso',\n",
       " 'soooo good sooo bad',\n",
       " 'yum',\n",
       " 'awesome',\n",
       " 'excellent jasmine green tea',\n",
       " 'excellent sun dried tomato',\n",
       " 'good taste good',\n",
       " 'dissapointing',\n",
       " 'gang love',\n",
       " 'tasty expected',\n",
       " 'quinoa tried first time',\n",
       " 'tasty enough caveat',\n",
       " 'cat crazy stuff',\n",
       " 'great product',\n",
       " 'great stuff',\n",
       " 'deadly',\n",
       " 'delicious cocoa mix',\n",
       " 'love em',\n",
       " 'disappointing',\n",
       " 'torani mocha syrup',\n",
       " 'cooky',\n",
       " 'good rub',\n",
       " 'nesco original venison jerky',\n",
       " 'bar harbor news england clam chowder',\n",
       " 'picky dog loved',\n",
       " 'excellent low sugar sweet treat',\n",
       " 'quality dog food',\n",
       " 'excellent jawbreaker',\n",
       " 'rancid',\n",
       " 'kettle brand potato chip new york cheddar',\n",
       " 'different delicious',\n",
       " 'choice black tea',\n",
       " 'quick sushi',\n",
       " 'incredibly aromatic flavorful',\n",
       " 'white anchovy',\n",
       " 'cattledogs love',\n",
       " 'long time consumer',\n",
       " 'price higher retail price cv walgreens',\n",
       " 'hit miss family split',\n",
       " 'stand alone good tweeks',\n",
       " 'human grade liver great product',\n",
       " 'agrees dog',\n",
       " 'liking',\n",
       " 'like tikka masala difinitive sauce mix',\n",
       " 'classic candy',\n",
       " 'bit worried',\n",
       " 'disgusting',\n",
       " 'great treat',\n",
       " 'great fun ex cel lent',\n",
       " 'good price',\n",
       " 'rawhide ring',\n",
       " 'best canned cat food',\n",
       " 'disappointing',\n",
       " '',\n",
       " 'chocolatey goodness',\n",
       " 'lentil',\n",
       " 'product great bad shipping',\n",
       " 'excellent fun snack',\n",
       " 'great',\n",
       " 'surprisingly good',\n",
       " 'maltese get one night',\n",
       " 'give time',\n",
       " 'good brownie',\n",
       " 'taste green good way',\n",
       " 'classic',\n",
       " 'taste chocolate heaven',\n",
       " 'interesting',\n",
       " 'taste good flavor edited',\n",
       " 'light mistake',\n",
       " 'great price',\n",
       " 'tasty chip great delivery',\n",
       " 'great big jar red pepper',\n",
       " 'great cat used love',\n",
       " 'excellent flavor',\n",
       " 'nice conditioner',\n",
       " 'try',\n",
       " 'great tea',\n",
       " 'really good',\n",
       " 'great ginger preserve',\n",
       " 'good tea',\n",
       " 'covered insurance',\n",
       " 'great product',\n",
       " 'best dark chocolate ever',\n",
       " 'terrific product terrible shipping',\n",
       " 'save',\n",
       " 'licorice gluten free',\n",
       " 'stale',\n",
       " 'excellent always',\n",
       " 'meh',\n",
       " 'delicious snack option',\n",
       " 'tasty option beef jerky',\n",
       " 'gluten free snack',\n",
       " 'fussy peek poo love treat',\n",
       " 'dog love em',\n",
       " 'delicious',\n",
       " 'threw',\n",
       " 'awesome',\n",
       " 'mmmmm deliciously spicy',\n",
       " 'funny',\n",
       " 'prefer smooth cup coffee',\n",
       " 'sensitve stomach cat love',\n",
       " 'rose water',\n",
       " 'good caffeine free boot',\n",
       " 'sensible',\n",
       " '12 can severely dented',\n",
       " 'good',\n",
       " 'like bold coffee wast money',\n",
       " 'best tasting rice',\n",
       " 'delicious aroma',\n",
       " 'great veggie fruit supplement finicky kid',\n",
       " 'tasty expensive',\n",
       " 'bit dry',\n",
       " 'major disappointment',\n",
       " 'first time hot bun',\n",
       " 'great healthy crunch',\n",
       " 'good dry',\n",
       " 'best treat tried far',\n",
       " 'terribly stale',\n",
       " 'jar half full',\n",
       " 'namaste gluten free yummy',\n",
       " 'disappointed',\n",
       " 'time convenience matter',\n",
       " 'pleased',\n",
       " 'something soldier',\n",
       " 'schnauzer love',\n",
       " 'fresh taste great',\n",
       " 'bitter brew good',\n",
       " 'perfect prop breaking bad costume',\n",
       " 'deeee licious',\n",
       " 'weber black peppercorn marinade',\n",
       " 'love product',\n",
       " 'love',\n",
       " 'pedigree puppy dinner number 1 choice',\n",
       " 'racconto grated cheese great',\n",
       " 'super healthy baby love',\n",
       " 'redbull',\n",
       " 'pet lover',\n",
       " 'give daily kamut',\n",
       " 'great flavor good buy',\n",
       " 'good gf bar',\n",
       " 'quite bitter',\n",
       " 'best food ever picky dog',\n",
       " 'best protein drink',\n",
       " 'pretty good coffee',\n",
       " 'need barista',\n",
       " 'pleasantly impressed',\n",
       " 'havahart critter ridder',\n",
       " 'diet cola syrup',\n",
       " 'delicious',\n",
       " 'decent natural sweetener',\n",
       " 'like home go',\n",
       " 'taste like pudding',\n",
       " 'shrub',\n",
       " 'possible step hot sauce limo land',\n",
       " 'old cereal',\n",
       " 'spider',\n",
       " 'awful',\n",
       " 'yowzah',\n",
       " 'best sauce around',\n",
       " 'green mountain coffee nantucket blend k cup portion pack keurig brewer 50 count',\n",
       " 'first timer',\n",
       " 'food feed dog',\n",
       " 'treat cat get',\n",
       " 'great cooky',\n",
       " '',\n",
       " 'much much expensive',\n",
       " 'good stuff',\n",
       " 'great seasoning',\n",
       " 'take special person',\n",
       " 'garlic slicws',\n",
       " 'blech',\n",
       " 'look pretty end much',\n",
       " 'daily pastime',\n",
       " 'taste great hint peach',\n",
       " 'best gf granola bar',\n",
       " 'mountain blueberry',\n",
       " 'love tea',\n",
       " 'amazing taste',\n",
       " 'dog like careful',\n",
       " 'buck',\n",
       " 'high price',\n",
       " 'solution u',\n",
       " 'lot twizzlers expect',\n",
       " 'black walnut',\n",
       " 'great tasting tea',\n",
       " 'made believer',\n",
       " 'top notch saffron',\n",
       " 'yummy',\n",
       " 'sadly disappointed',\n",
       " 'yum',\n",
       " 'love',\n",
       " 'pack great punch',\n",
       " 'bland',\n",
       " 'mixed feeling',\n",
       " 'healthy solution',\n",
       " 'good',\n",
       " 'love taste',\n",
       " 'fish frenzy',\n",
       " 'cake supply',\n",
       " 'perfect satisfying afternoon snack',\n",
       " 'perfect beach',\n",
       " 'lot dog treat',\n",
       " 'strong enough',\n",
       " 'like',\n",
       " 'cheated',\n",
       " 'second bad experience',\n",
       " 'much cheaper fast delivery',\n",
       " 'excellent',\n",
       " 'salata delightfully delicious',\n",
       " 'premium quality tea',\n",
       " 'good enough',\n",
       " 'kind bar',\n",
       " 'good bar',\n",
       " 'small box keep cat food fresh',\n",
       " 'yum',\n",
       " '3 pack 1 4 grain saccharin tablet',\n",
       " 'yummy yummy yummy',\n",
       " 'salty beyond reason',\n",
       " 'favorite late night snack',\n",
       " 'color different',\n",
       " 'feel like kid',\n",
       " 'must weird taste bud thought thing awesome',\n",
       " 'wonderful',\n",
       " 'sweet sweet',\n",
       " 'best real good hot chocolate',\n",
       " 'acai freeze dried powder',\n",
       " 'great food',\n",
       " 'good coffee great price plus better environment',\n",
       " 'love variety snack pack price high',\n",
       " 'hassle',\n",
       " 'exir saffron tablet',\n",
       " 'succulent juicy',\n",
       " 'tasty pepper',\n",
       " 'coffee ok',\n",
       " 'perfect specialty cocktail',\n",
       " 'potential dog get',\n",
       " 'quality wilton tiny bottle',\n",
       " 'gone',\n",
       " 'good crunchy craving',\n",
       " 'terrific avocado oil',\n",
       " 'dog love',\n",
       " 'inexpensive leaf hair soft feeling healthier',\n",
       " 'yummmmm',\n",
       " 'good product',\n",
       " 'love pelligrino',\n",
       " 'good broken',\n",
       " 'spectacularly good chocolate',\n",
       " 'nasty',\n",
       " 'cat love',\n",
       " 'anyone else confirm',\n",
       " 'carr rosemary cracker delicious',\n",
       " 'better expected',\n",
       " 'satisfying snack',\n",
       " 'healthy tortilla chip',\n",
       " 'child grape drink',\n",
       " 'vegetarian jerquee',\n",
       " 'delicious easy',\n",
       " 'good product',\n",
       " 'dukan diet',\n",
       " 'good teething tool puppy',\n",
       " 'excellent used designed',\n",
       " 'strong',\n",
       " 'boyfriend love hot chocolate',\n",
       " 'wow know peanut could good',\n",
       " 'high hope bit disappointed',\n",
       " 'great product great value',\n",
       " 'distinct odor really like',\n",
       " 'exquisite',\n",
       " 'garlic',\n",
       " 'best salt ever',\n",
       " 'mega omega',\n",
       " 'quality tea wrong description',\n",
       " 'great pretzel',\n",
       " 'dog love',\n",
       " 'sweet taste like chai',\n",
       " 'good bar',\n",
       " 'new fav snack addition',\n",
       " 'affordable great tasting',\n",
       " 'love',\n",
       " 'coffee people brand rule',\n",
       " 'delicious',\n",
       " 'great',\n",
       " 'doggie love lot budget much',\n",
       " 'like drinking jolly rancher green apple candy',\n",
       " 'great leg cramp',\n",
       " 'prefer original flavor mango taste fake',\n",
       " 'problem',\n",
       " 'coffe flavor',\n",
       " 'fantastic buy',\n",
       " 'make life easy',\n",
       " 'dachshund play every day',\n",
       " 'retailer use amazon dented dump',\n",
       " 'tasty crunchy',\n",
       " 'delicious',\n",
       " 'salty good taste',\n",
       " 'awesome idea expensive',\n",
       " 'good product fresh',\n",
       " 'love annie',\n",
       " 'great product service always',\n",
       " 'doggie treat',\n",
       " 'amazon come rescue',\n",
       " 'worse part addictive',\n",
       " 'wonderful cooky',\n",
       " 'would rather leave 0 star',\n",
       " 'huge letdown',\n",
       " 'different hot cereal',\n",
       " 'u',\n",
       " 'believe',\n",
       " 'say dog love stuff',\n",
       " 'good stuff',\n",
       " 'one best nutritional supplement',\n",
       " 'great panang',\n",
       " 'delicious',\n",
       " 'cat treat',\n",
       " 'wild ride beef jerky',\n",
       " 'best coffee yet',\n",
       " 'delicious cereal',\n",
       " 'love coffee maker',\n",
       " 'got ta love uncle lee',\n",
       " 'best',\n",
       " 'sicilan favorite',\n",
       " 'great granola bar',\n",
       " 'cookie memory',\n",
       " 'puppy love eats fast',\n",
       " 'great dark cocoa',\n",
       " 'love tea',\n",
       " 'maybe little good',\n",
       " 'amazing',\n",
       " 'tangy spicy',\n",
       " 'good rice risotto',\n",
       " 'good syrup bit runny',\n",
       " '18 bar say pack 8 get 18 bar great',\n",
       " 'much blueberry',\n",
       " 'horrible stuff',\n",
       " 'great soda treat',\n",
       " 'must made gold',\n",
       " 'girl 4 5 drink stuff',\n",
       " 'use anything else',\n",
       " 'awesome',\n",
       " 'love bar',\n",
       " 'little nugget intense flavor',\n",
       " 'great mix',\n",
       " 'liver treat',\n",
       " 'mona lisa',\n",
       " 'cheapest way buy cereal period',\n",
       " 'licorice barely know orice',\n",
       " 'four can perfect expiration date 19 month',\n",
       " 'ok better',\n",
       " 'awesome',\n",
       " 'organic raw blue agave',\n",
       " 'delicious anytime',\n",
       " 'nice plant tray',\n",
       " 'great product',\n",
       " 'better starbucks',\n",
       " 'best chip ever',\n",
       " 'calamari ring',\n",
       " 'completely awesome',\n",
       " 'fantastic sauce',\n",
       " 'least favorite kashi cereal',\n",
       " 'good',\n",
       " 'great snack gluten free',\n",
       " 'coffee extract',\n",
       " 'kind plus cranberry amond antioxidant',\n",
       " 'good',\n",
       " 'love',\n",
       " 'great favorite flavor',\n",
       " 'tasty nice break old flavor',\n",
       " 'excellent dark coffee like little bite morning',\n",
       " 'great rice seasoning',\n",
       " 'coffee filter',\n",
       " 'hubby new favorite',\n",
       " 'pretty tasty',\n",
       " 'dog pup love',\n",
       " 'definitely cola',\n",
       " 'healthy tasty nonetheless',\n",
       " 'newman organic premium pet food',\n",
       " 'great tea',\n",
       " 'lawry taco mix',\n",
       " 'disgusting',\n",
       " 'yummy',\n",
       " 'best beef jerky planet',\n",
       " 'happy healthy dog thanks purina',\n",
       " 'good product',\n",
       " 'l il salty',\n",
       " 'excellent',\n",
       " 'awesome zombie novelty',\n",
       " 'zinger flavor',\n",
       " 'imperfect packaging',\n",
       " 'terrible',\n",
       " 'schnoodle love food',\n",
       " 'got sick product gf',\n",
       " 'love',\n",
       " 'try least',\n",
       " 'great',\n",
       " 'wonderful tea',\n",
       " 'banana pancake',\n",
       " 'teavana tea',\n",
       " 'great earl grey',\n",
       " 'enough variety',\n",
       " 'taste like water',\n",
       " 'great candy bar childhood',\n",
       " 'ew ew ew ew',\n",
       " 'set way others say work great',\n",
       " 'taste terrible caught cali processed vietnam',\n",
       " 'excellent variety pack great camping',\n",
       " 'much better corn syrup',\n",
       " 'gritty',\n",
       " 'love',\n",
       " 'great taste',\n",
       " 'peanut butter cooky',\n",
       " 'candy',\n",
       " '9 month old love',\n",
       " '100 jamaican',\n",
       " 'family love',\n",
       " 'dry dog food low fat',\n",
       " 'pure stuff taste good le expensive',\n",
       " 'like nut',\n",
       " 'yummy',\n",
       " 'filler food empty leaf cat always needing',\n",
       " 'fat free crouton',\n",
       " '5 hour energy',\n",
       " 'sweet',\n",
       " 'love cereal',\n",
       " 'good night sleep',\n",
       " 'item arrived timely manner good condition',\n",
       " 'hope sell like others',\n",
       " 'smile',\n",
       " 'awesomeness',\n",
       " 'bottle cap bottle',\n",
       " 'good stuff',\n",
       " 'name nah taste yes',\n",
       " 'like going movie',\n",
       " 'le stress please',\n",
       " 'element typical work day lunch',\n",
       " 'satisfied',\n",
       " 'eden pistachio',\n",
       " 'excellent dog food',\n",
       " 'exellent product',\n",
       " 'good stuff',\n",
       " 'incomplete product info description',\n",
       " 'bonsai',\n",
       " 'food needed',\n",
       " 'nut delight',\n",
       " 'cat loved gravy',\n",
       " 'pup never turn',\n",
       " 'great tasting',\n",
       " 'taste good',\n",
       " 'great toy dog really chew',\n",
       " 'actually love stuff',\n",
       " 'excellent cracker',\n",
       " 'really tasty versatile',\n",
       " 'soft sweet healthy cookie',\n",
       " 'substitute',\n",
       " 'taste great quick expiration date',\n",
       " 'first rate dog food',\n",
       " 'allergy',\n",
       " 'pleasant',\n",
       " 'affordable shipping quick',\n",
       " 'delicious',\n",
       " 'best ever',\n",
       " 'excellent',\n",
       " 'dog love',\n",
       " 'hmmmmm',\n",
       " 'cat went nut thing',\n",
       " 'okay',\n",
       " 'great food available cheaper',\n",
       " 'black tea flavor',\n",
       " 'gross buy',\n",
       " 'great coffee',\n",
       " 'product',\n",
       " 'made happy result',\n",
       " ...]"
      ]
     },
     "execution_count": 23,
     "metadata": {},
     "output_type": "execute_result"
    }
   ],
   "source": [
    "A"
   ]
  },
  {
   "cell_type": "code",
   "execution_count": 24,
   "metadata": {
    "collapsed": true
   },
   "outputs": [],
   "source": [
    "df['data']=A"
   ]
  },
  {
   "cell_type": "code",
   "execution_count": 25,
   "metadata": {
    "collapsed": false
   },
   "outputs": [
    {
     "data": {
      "text/html": [
       "<div>\n",
       "<table border=\"1\" class=\"dataframe\">\n",
       "  <thead>\n",
       "    <tr style=\"text-align: right;\">\n",
       "      <th></th>\n",
       "      <th>Score</th>\n",
       "      <th>Summary</th>\n",
       "      <th>data</th>\n",
       "    </tr>\n",
       "  </thead>\n",
       "  <tbody>\n",
       "    <tr>\n",
       "      <th>0</th>\n",
       "      <td>pos</td>\n",
       "      <td>Libby's Splenda Fruit Cocktail</td>\n",
       "      <td>libby splenda fruit cocktail</td>\n",
       "    </tr>\n",
       "    <tr>\n",
       "      <th>1</th>\n",
       "      <td>pos</td>\n",
       "      <td>Fantastic aroma and taste!</td>\n",
       "      <td>fantastic aroma taste</td>\n",
       "    </tr>\n",
       "    <tr>\n",
       "      <th>2</th>\n",
       "      <td>pos</td>\n",
       "      <td>My parrots LOVE Harrison's</td>\n",
       "      <td>parrot love harrison</td>\n",
       "    </tr>\n",
       "    <tr>\n",
       "      <th>3</th>\n",
       "      <td>neg</td>\n",
       "      <td>Crumbles easily</td>\n",
       "      <td>crumbles easily</td>\n",
       "    </tr>\n",
       "    <tr>\n",
       "      <th>4</th>\n",
       "      <td>pos</td>\n",
       "      <td>Healthy and Happy</td>\n",
       "      <td>healthy happy</td>\n",
       "    </tr>\n",
       "  </tbody>\n",
       "</table>\n",
       "</div>"
      ],
      "text/plain": [
       "  Score                         Summary                          data\n",
       "0   pos  Libby's Splenda Fruit Cocktail  libby splenda fruit cocktail\n",
       "1   pos      Fantastic aroma and taste!         fantastic aroma taste\n",
       "2   pos      My parrots LOVE Harrison's          parrot love harrison\n",
       "3   neg                 Crumbles easily               crumbles easily\n",
       "4   pos               Healthy and Happy                 healthy happy"
      ]
     },
     "execution_count": 25,
     "metadata": {},
     "output_type": "execute_result"
    }
   ],
   "source": [
    "df.head()"
   ]
  },
  {
   "cell_type": "code",
   "execution_count": 26,
   "metadata": {
    "collapsed": true
   },
   "outputs": [],
   "source": [
    "y=df.Score"
   ]
  },
  {
   "cell_type": "code",
   "execution_count": 27,
   "metadata": {
    "collapsed": true
   },
   "outputs": [],
   "source": [
    "data=df[['data']]"
   ]
  },
  {
   "cell_type": "code",
   "execution_count": 28,
   "metadata": {
    "collapsed": false
   },
   "outputs": [
    {
     "data": {
      "text/html": [
       "<div>\n",
       "<table border=\"1\" class=\"dataframe\">\n",
       "  <thead>\n",
       "    <tr style=\"text-align: right;\">\n",
       "      <th></th>\n",
       "      <th>data</th>\n",
       "    </tr>\n",
       "  </thead>\n",
       "  <tbody>\n",
       "    <tr>\n",
       "      <th>0</th>\n",
       "      <td>libby splenda fruit cocktail</td>\n",
       "    </tr>\n",
       "    <tr>\n",
       "      <th>1</th>\n",
       "      <td>fantastic aroma taste</td>\n",
       "    </tr>\n",
       "    <tr>\n",
       "      <th>2</th>\n",
       "      <td>parrot love harrison</td>\n",
       "    </tr>\n",
       "    <tr>\n",
       "      <th>3</th>\n",
       "      <td>crumbles easily</td>\n",
       "    </tr>\n",
       "    <tr>\n",
       "      <th>4</th>\n",
       "      <td>healthy happy</td>\n",
       "    </tr>\n",
       "  </tbody>\n",
       "</table>\n",
       "</div>"
      ],
      "text/plain": [
       "                           data\n",
       "0  libby splenda fruit cocktail\n",
       "1         fantastic aroma taste\n",
       "2          parrot love harrison\n",
       "3               crumbles easily\n",
       "4                 healthy happy"
      ]
     },
     "execution_count": 28,
     "metadata": {},
     "output_type": "execute_result"
    }
   ],
   "source": [
    "data.head()"
   ]
  },
  {
   "cell_type": "code",
   "execution_count": 29,
   "metadata": {
    "collapsed": false
   },
   "outputs": [
    {
     "data": {
      "text/plain": [
       "(50000, 1)"
      ]
     },
     "execution_count": 29,
     "metadata": {},
     "output_type": "execute_result"
    }
   ],
   "source": [
    "data.shape"
   ]
  },
  {
   "cell_type": "code",
   "execution_count": 30,
   "metadata": {
    "collapsed": true
   },
   "outputs": [],
   "source": [
    "[Data_train,Data_test,Train_labels,Test_labels] = train_test_split(data,y , test_size=0.2,\n",
    "                                                                   random_state=2,stratify=y)"
   ]
  },
  {
   "cell_type": "code",
   "execution_count": 31,
   "metadata": {
    "collapsed": false
   },
   "outputs": [],
   "source": [
    "t=[]\n",
    "for line in Data_train.data:\n",
    "    words=nltk.word_tokenize(line)\n",
    "    for w in words:\n",
    "        t.append(w)"
   ]
  },
  {
   "cell_type": "code",
   "execution_count": 32,
   "metadata": {
    "collapsed": false
   },
   "outputs": [
    {
     "data": {
      "text/plain": [
       "116079"
      ]
     },
     "execution_count": 32,
     "metadata": {},
     "output_type": "execute_result"
    }
   ],
   "source": [
    "len(t)"
   ]
  },
  {
   "cell_type": "code",
   "execution_count": 33,
   "metadata": {
    "collapsed": false
   },
   "outputs": [
    {
     "name": "stdout",
     "output_type": "stream",
     "text": [
      "9258\n"
     ]
    }
   ],
   "source": [
    "word_features = nltk.FreqDist(t)\n",
    "print (len(word_features))"
   ]
  },
  {
   "cell_type": "code",
   "execution_count": 34,
   "metadata": {
    "collapsed": false
   },
   "outputs": [
    {
     "data": {
      "text/plain": [
       "(10000, 1)"
      ]
     },
     "execution_count": 34,
     "metadata": {},
     "output_type": "execute_result"
    }
   ],
   "source": [
    "Data_test.shape"
   ]
  },
  {
   "cell_type": "code",
   "execution_count": 35,
   "metadata": {
    "collapsed": true
   },
   "outputs": [],
   "source": [
    "import scipy.sparse as sparse"
   ]
  },
  {
   "cell_type": "code",
   "execution_count": 36,
   "metadata": {
    "collapsed": false
   },
   "outputs": [
    {
     "data": {
      "text/plain": [
       "(40000, 9227)"
      ]
     },
     "execution_count": 36,
     "metadata": {},
     "output_type": "execute_result"
    }
   ],
   "source": [
    "count_vect = CountVectorizer()\n",
    "X_train_counts = count_vect.fit_transform(Data_train.data)\n",
    "X_train_counts.shape"
   ]
  },
  {
   "cell_type": "code",
   "execution_count": 37,
   "metadata": {
    "collapsed": false
   },
   "outputs": [
    {
     "data": {
      "text/plain": [
       "(10000, 9227)"
      ]
     },
     "execution_count": 37,
     "metadata": {},
     "output_type": "execute_result"
    }
   ],
   "source": [
    "cte_features_all = count_vect.transform(Data_test.data)\n",
    "cte_features_all.shape"
   ]
  },
  {
   "cell_type": "code",
   "execution_count": 38,
   "metadata": {
    "collapsed": true
   },
   "outputs": [],
   "source": [
    "tf_vec_all = TfidfTransformer()\n",
    "tr_features_all = tf_vec_all.fit_transform(X_train_counts)\n",
    "te_features_all = tf_vec_all.transform(cte_features_all)"
   ]
  },
  {
   "cell_type": "code",
   "execution_count": 39,
   "metadata": {
    "collapsed": false
   },
   "outputs": [
    {
     "data": {
      "text/plain": [
       "(40000, 200)"
      ]
     },
     "execution_count": 39,
     "metadata": {},
     "output_type": "execute_result"
    }
   ],
   "source": [
    "svd = TruncatedSVD(n_components=200)\n",
    "tr_features_truncated = svd.fit_transform(tr_features_all)\n",
    "tr_features_truncated.shape"
   ]
  },
  {
   "cell_type": "code",
   "execution_count": 40,
   "metadata": {
    "collapsed": false
   },
   "outputs": [
    {
     "data": {
      "text/plain": [
       "(10000, 200)"
      ]
     },
     "execution_count": 40,
     "metadata": {},
     "output_type": "execute_result"
    }
   ],
   "source": [
    "te_features_truncated = svd.transform(te_features_all)\n",
    "te_features_truncated.shape"
   ]
  },
  {
   "cell_type": "code",
   "execution_count": 41,
   "metadata": {
    "collapsed": true
   },
   "outputs": [],
   "source": [
    "svd = TruncatedSVD(n_components=200)\n",
    "ctr_features_truncated = svd.fit_transform(X_train_counts)\n",
    "cte_features_truncated = svd.transform(cte_features_all)"
   ]
  },
  {
   "cell_type": "code",
   "execution_count": 42,
   "metadata": {
    "collapsed": false
   },
   "outputs": [
    {
     "data": {
      "text/plain": [
       "(10000, 200)"
      ]
     },
     "execution_count": 42,
     "metadata": {},
     "output_type": "execute_result"
    }
   ],
   "source": [
    "te_features_truncated.shape"
   ]
  },
  {
   "cell_type": "code",
   "execution_count": 47,
   "metadata": {
    "collapsed": true
   },
   "outputs": [],
   "source": [
    "models=[BernoulliNB(binarize=0.5),linear_model.LogisticRegression(C=.0001),\n",
    "        DecisionTreeClassifier(random_state=2, criterion='gini'),RandomForestClassifier(n_estimators=200)]\n",
    "Scores=[]\n",
    "for clf in models:\n",
    "    clf.fit(tr_features_truncated, Train_labels)\n",
    "    clf.predict(te_features_truncated)\n",
    "    tfaccuracy = metrics.accuracy_score(tfprediction,Test_labels)\n",
    "    Scores.append(tfaccuracy)"
   ]
  },
  {
   "cell_type": "code",
   "execution_count": 49,
   "metadata": {
    "collapsed": false
   },
   "outputs": [
    {
     "data": {
      "text/plain": [
       "[0.78949999999999998,\n",
       " 0.78949999999999998,\n",
       " 0.78949999999999998,\n",
       " 0.78949999999999998]"
      ]
     },
     "execution_count": 49,
     "metadata": {},
     "output_type": "execute_result"
    }
   ],
   "source": [
    "Scores\n",
    "    \n"
   ]
  },
  {
   "cell_type": "code",
   "execution_count": 51,
   "metadata": {
    "collapsed": false
   },
   "outputs": [
    {
     "data": {
      "text/plain": [
       "0.79979999999999996"
      ]
     },
     "execution_count": 51,
     "metadata": {},
     "output_type": "execute_result"
    }
   ],
   "source": [
    "model=BernoulliNB(binarize=0.5)\n",
    "model.fit(tr_features_truncated, Train_labels)\n",
    "tfprediction = model.predict(te_features_truncated)\n",
    "tfaccuracy = metrics.accuracy_score(tfprediction,Test_labels)\n",
    "tfaccuracy"
   ]
  },
  {
   "cell_type": "code",
   "execution_count": 52,
   "metadata": {
    "collapsed": false
   },
   "outputs": [
    {
     "data": {
      "text/plain": [
       "0.78059999999999996"
      ]
     },
     "execution_count": 52,
     "metadata": {},
     "output_type": "execute_result"
    }
   ],
   "source": [
    "model=linear_model.LogisticRegression(C=.0001)\n",
    "model.fit(tr_features_truncated, Train_labels)\n",
    "tfprediction = model.predict(te_features_truncated)\n",
    "tfaccuracy = metrics.accuracy_score(tfprediction,Test_labels)\n",
    "tfaccuracy"
   ]
  },
  {
   "cell_type": "code",
   "execution_count": 53,
   "metadata": {
    "collapsed": false
   },
   "outputs": [
    {
     "data": {
      "text/plain": [
       "0.78920000000000001"
      ]
     },
     "execution_count": 53,
     "metadata": {},
     "output_type": "execute_result"
    }
   ],
   "source": [
    "model=DecisionTreeClassifier(random_state=2, criterion='gini')\n",
    "model.fit(tr_features_truncated, Train_labels)\n",
    "tfprediction = model.predict(te_features_truncated)\n",
    "tfaccuracy = metrics.accuracy_score(tfprediction,Test_labels)\n",
    "tfaccuracy"
   ]
  },
  {
   "cell_type": "code",
   "execution_count": 57,
   "metadata": {
    "collapsed": false
   },
   "outputs": [
    {
     "data": {
      "text/plain": [
       "0.82520000000000004"
      ]
     },
     "execution_count": 57,
     "metadata": {},
     "output_type": "execute_result"
    }
   ],
   "source": [
    "model=AdaBoostClassifier(n_estimators=300)\n",
    "model.fit(tr_features_truncated, Train_labels)\n",
    "tfprediction = model.predict(te_features_truncated)\n",
    "tfaccuracy = metrics.accuracy_score(tfprediction,Test_labels)\n",
    "tfaccuracy"
   ]
  },
  {
   "cell_type": "code",
   "execution_count": 59,
   "metadata": {
    "collapsed": false
   },
   "outputs": [],
   "source": [
    "from sklearn.linear_model import Perceptron"
   ]
  },
  {
   "cell_type": "code",
   "execution_count": 60,
   "metadata": {
    "collapsed": false
   },
   "outputs": [
    {
     "data": {
      "text/plain": [
       "0.80189999999999995"
      ]
     },
     "execution_count": 60,
     "metadata": {},
     "output_type": "execute_result"
    }
   ],
   "source": [
    "model=Perceptron(n_iter=1000)\n",
    "model.fit(tr_features_truncated, Train_labels)\n",
    "tfprediction = model.predict(te_features_truncated)\n",
    "tfaccuracy = metrics.accuracy_score(tfprediction,Test_labels)\n",
    "tfaccuracy"
   ]
  },
  {
   "cell_type": "code",
   "execution_count": null,
   "metadata": {
    "collapsed": true
   },
   "outputs": [],
   "source": []
  }
 ],
 "metadata": {
  "kernelspec": {
   "display_name": "Python 3",
   "language": "python",
   "name": "python3"
  },
  "language_info": {
   "codemirror_mode": {
    "name": "ipython",
    "version": 3
   },
   "file_extension": ".py",
   "mimetype": "text/x-python",
   "name": "python",
   "nbconvert_exporter": "python",
   "pygments_lexer": "ipython3",
   "version": "3.5.2"
  }
 },
 "nbformat": 4,
 "nbformat_minor": 0
}
